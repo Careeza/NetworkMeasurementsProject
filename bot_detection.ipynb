{
 "cells": [
  {
   "cell_type": "code",
   "execution_count": 1,
   "metadata": {},
   "outputs": [],
   "source": [
    "from datasketch.hnsw import HNSW\n",
    "from datasketch import MinHash\n",
    "import pandas as pd\n",
    "import matplotlib.pyplot as plt"
   ]
  },
  {
   "cell_type": "code",
   "execution_count": null,
   "metadata": {},
   "outputs": [],
   "source": [
    "users_timestamps = {}\n",
    "chunks = pd.read_csv(\"../data.csv\", chunksize=400_000)\n",
    "for i, chunk in enumerate(chunks):\n",
    "\t# process 10% of the data\n",
    "\tif i % 100 >= 10:\n",
    "\t\tcontinue\n",
    "\telse:\n",
    "\t\tprint(f\"Processing chunk {i}\")\n",
    "\n",
    "\tchunk['timestamp'] = pd.to_datetime(chunk['timestamp'], format='mixed')\n",
    "\tfor user_id, group in chunk.groupby('user_id'):\n",
    "\t\tif user_id not in users_timestamps:\n",
    "\t\t\tusers_timestamps[user_id] = []\n",
    "\t\tfor _, row in group.iterrows():\n",
    "\t\t\tusers_timestamps[user_id].append(row['timestamp'].value)"
   ]
  },
  {
   "cell_type": "code",
   "execution_count": 11,
   "metadata": {},
   "outputs": [],
   "source": [
    "import numpy as np\n",
    "\n",
    "def detect_bots(user_activity, cv_threshold=0.05, min_intervals=5):\n",
    "    \"\"\"\n",
    "    Identify users with regular interaction intervals (potential bots).\n",
    "    \n",
    "    Parameters:\n",
    "    - user_activity: Dict {user: list_of_timestamps}\n",
    "    - cv_threshold: Threshold for coefficient of variation (lower = more strict)\n",
    "    - min_intervals: Minimum number of intervals required for analysis\n",
    "    \n",
    "    Returns:\n",
    "    - List of users flagged as potential bots\n",
    "    \"\"\"\n",
    "    bot_users = []\n",
    "    \n",
    "    for user, timestamps in user_activity.items():\n",
    "        # Skip users with fewer than 2 timestamps (no intervals)\n",
    "        if len(timestamps) < 2:\n",
    "            continue\n",
    "        \n",
    "        # Convert to Unix timestamps if not already numerical\n",
    "        sorted_ts = sorted(timestamps)\n",
    "        intervals = np.diff(sorted_ts)  # Compute time differences\n",
    "        \n",
    "        # Skip users with insufficient intervals for analysis\n",
    "        if len(intervals) < min_intervals:\n",
    "            continue\n",
    "        \n",
    "        mean_interval = np.mean(intervals)\n",
    "        \n",
    "        # Avoid division by zero (possible if all intervals are 0)\n",
    "        if mean_interval == 0:\n",
    "            bot_users.append(user)\n",
    "            continue\n",
    "        \n",
    "        cv = np.std(intervals) / mean_interval  # Coefficient of variation\n",
    "        \n",
    "        if cv < cv_threshold:\n",
    "            bot_users.append(user)\n",
    "    \n",
    "    return bot_users"
   ]
  },
  {
   "cell_type": "code",
   "execution_count": null,
   "metadata": {},
   "outputs": [],
   "source": [
    "bots = detect_bots(users_timestamps, cv_threshold=0.01, min_intervals=5)\n",
    "print(f\"Detected {len(bots)} bots\")"
   ]
  },
  {
   "cell_type": "code",
   "execution_count": 48,
   "metadata": {},
   "outputs": [],
   "source": [
    "def get_pixel_placement(user_ids):\n",
    "    # Deduplicate user_ids and initialize dictionary with empty lists\n",
    "    unique_users = list(set(user_ids))\n",
    "    user_data = {uid: {\"coordinates\": [], \"colors\": []} for uid in unique_users}\n",
    "    \n",
    "    # Process data in chunks\n",
    "    for i, chunk in enumerate(pd.read_csv(\"../data.csv\", chunksize=10_000)):\n",
    "        if i % 100 == 0:\n",
    "            print(f\"Processing chunk {i}\")\n",
    "            \n",
    "        # Filter rows and group by user_id\n",
    "        filtered = chunk[chunk['user_id'].isin(unique_users)]\n",
    "        grouped = filtered.groupby('user_id')\n",
    "        \n",
    "        # Aggregate results per user\n",
    "        for user_id, group in grouped:\n",
    "            user_data[user_id][\"coordinates\"].extend(group['coordinate'].tolist())\n",
    "            user_data[user_id][\"colors\"].extend(group['pixel_color'].tolist())\n",
    "    \n",
    "    return user_data"
   ]
  },
  {
   "cell_type": "code",
   "execution_count": null,
   "metadata": {},
   "outputs": [],
   "source": [
    "user_data = get_pixel_placement(bots)"
   ]
  },
  {
   "cell_type": "code",
   "execution_count": 50,
   "metadata": {},
   "outputs": [],
   "source": [
    "def bucket_coordinates(coord, grid_size=100):\n",
    "    coord = coord.split(\",\")\n",
    "    return (int(coord[0]) // grid_size, int(coord[1]) // grid_size)"
   ]
  },
  {
   "cell_type": "code",
   "execution_count": null,
   "metadata": {},
   "outputs": [],
   "source": [
    "user_minhashes = {}\n",
    "\n",
    "for user_id in user_data.keys():\n",
    "\tminhash = MinHash(num_perm=128)\n",
    "\tfor coord, color in zip(user_data[user_id][\"coordinates\"], user_data[user_id][\"colors\"]):\n",
    "\t\tcombined_feature = f\"{bucket_coordinates(coord)}_{color}\"\n",
    "\t\tminhash.update(combined_feature.encode('utf-8'))\n",
    "\tuser_minhashes[user_id] = minhash\n",
    "\n",
    "jaccard_distance = lambda x, y: (\n",
    "    1 - x.jaccard(y)\n",
    ")\n",
    "index = HNSW(distance_func=jaccard_distance)\n",
    "user_ids = list(user_minhashes.keys())\n",
    "for i in range(len(user_ids)):\n",
    "    index.insert(user_ids[i], user_minhashes[user_ids[i]])"
   ]
  },
  {
   "cell_type": "code",
   "execution_count": null,
   "metadata": {},
   "outputs": [],
   "source": [
    "def find_similar_users(user_id, top_n=5, threshold=0.5):\n",
    "\tquery = user_minhashes[user_id]\n",
    "\tresult = index.query(query, top_n)\n",
    "\tresult = [user for user in result if user[1] < threshold]\n",
    "\t# check if the user is in the result and remove it\n",
    "\tif (user_id, 0) in result:\n",
    "\t\tresult.remove((user_id, 0))\n",
    "\treturn result"
   ]
  },
  {
   "cell_type": "code",
   "execution_count": null,
   "metadata": {},
   "outputs": [],
   "source": [
    "max_similar_users = 0\n",
    "max_user = None\n",
    "for bot in bots:\n",
    "\tsimilar_users = find_similar_users(bot, top_n=100, threshold=0.5)\n",
    "\tif len(similar_users) > max_similar_users:\n",
    "\t\tmax_similar_users = len(similar_users)\n",
    "\t\tmax_user = bot\n",
    "print(max_similar_users, max_user)"
   ]
  },
  {
   "cell_type": "code",
   "execution_count": 60,
   "metadata": {},
   "outputs": [],
   "source": [
    "def plot_coords(coords, colors=None, width=2000, height=2000, fig=None, ax=None):\n",
    "    if colors is None:\n",
    "        colors = [\"blue\"] * len(coords)\n",
    "    \n",
    "    # Create new figure if none provided\n",
    "    if fig is None or ax is None:\n",
    "        fig, ax = plt.subplots(figsize=(10, 6))\n",
    "        ax.set_xlim(0, width)\n",
    "        ax.set_ylim(0, height)\n",
    "        # ax.invert_yaxis()\n",
    "        ax.set_xlabel(\"X\")\n",
    "        ax.set_ylabel(\"Y\")\n",
    "        ax.set_title(\"Pixel Coordinates Plot\")\n",
    "        ax.grid(True, linestyle='--', alpha=0.4)\n",
    "\n",
    "    # Plot all points\n",
    "    for coord, color in zip(coords, colors):\n",
    "        x_str, y_str = coord.split(',')\n",
    "        x, y = int(x_str), int(y_str)\n",
    "        ax.plot(x, y, marker='o', markersize=5, color=color)\n",
    "    return fig, ax"
   ]
  },
  {
   "cell_type": "code",
   "execution_count": null,
   "metadata": {},
   "outputs": [],
   "source": [
    "fig, ax = None, None\n",
    "\n",
    "for similar_users in find_similar_users(max_user, top_n=100, threshold=0.9):\n",
    "\tuser_id, _ = similar_users\n",
    "\tcoords = user_data[user_id]['coordinates']\n",
    "\tcolors = user_data[user_id]['colors']\n",
    "\tfig, ax = plot_coords(coords, colors, fig=fig, ax=ax)\n",
    "\n",
    "# Add legend and show when done\n",
    "plt.gca().invert_yaxis()\n",
    "plt.show()\n"
   ]
  },
  {
   "cell_type": "code",
   "execution_count": null,
   "metadata": {},
   "outputs": [],
   "source": []
  }
 ],
 "metadata": {
  "kernelspec": {
   "display_name": "ENS",
   "language": "python",
   "name": "python3"
  },
  "language_info": {
   "codemirror_mode": {
    "name": "ipython",
    "version": 3
   },
   "file_extension": ".py",
   "mimetype": "text/x-python",
   "name": "python",
   "nbconvert_exporter": "python",
   "pygments_lexer": "ipython3",
   "version": "3.13.1"
  }
 },
 "nbformat": 4,
 "nbformat_minor": 2
}
